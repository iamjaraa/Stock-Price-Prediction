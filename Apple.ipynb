{
 "cells": [
  {
   "cell_type": "code",
   "execution_count": null,
   "id": "299031f0-63a6-4278-b930-98c71aaf9992",
   "metadata": {},
   "outputs": [],
   "source": [
    "# Import the necessary libraries"
   ]
  },
  {
   "cell_type": "code",
   "execution_count": 1,
   "id": "16a01201-d86e-40de-9f59-913e698bb4f6",
   "metadata": {},
   "outputs": [],
   "source": [
    "import yfinance as yf\n",
    "import pandas as pd\n",
    "import matplotlib.pyplot as plt\n",
    "from datetime import datetime, timedelta"
   ]
  },
  {
   "cell_type": "code",
   "execution_count": 2,
   "id": "48bbe16f-1fa4-4ed9-b425-cced6cd7822f",
   "metadata": {},
   "outputs": [],
   "source": [
    "# Download historical stock price data for Apple from YahoFinance"
   ]
  },
  {
   "cell_type": "code",
   "execution_count": 7,
   "id": "f9507ab2-5fbe-4c6e-a98a-e9e854bc8a64",
   "metadata": {
    "scrolled": true
   },
   "outputs": [
    {
     "name": "stderr",
     "output_type": "stream",
     "text": [
      "[*********************100%***********************]  1 of 1 completed"
     ]
    },
    {
     "name": "stdout",
     "output_type": "stream",
     "text": [
      "Price                     Adj Close     Close      High       Low      Open  \\\n",
      "Ticker                         AAPL      AAPL      AAPL      AAPL      AAPL   \n",
      "Date                                                                          \n",
      "2010-01-04 00:00:00+00:00  6.447411  7.643214  7.660714  7.585000  7.622500   \n",
      "2010-01-05 00:00:00+00:00  6.458560  7.656429  7.699643  7.616071  7.664286   \n",
      "2010-01-06 00:00:00+00:00  6.355828  7.534643  7.686786  7.526786  7.656429   \n",
      "2010-01-07 00:00:00+00:00  6.344078  7.520714  7.571429  7.466071  7.562500   \n",
      "2010-01-08 00:00:00+00:00  6.386253  7.570714  7.571429  7.466429  7.510714   \n",
      "\n",
      "Price                         Volume  \n",
      "Ticker                          AAPL  \n",
      "Date                                  \n",
      "2010-01-04 00:00:00+00:00  493729600  \n",
      "2010-01-05 00:00:00+00:00  601904800  \n",
      "2010-01-06 00:00:00+00:00  552160000  \n",
      "2010-01-07 00:00:00+00:00  477131200  \n",
      "2010-01-08 00:00:00+00:00  447610800  \n"
     ]
    },
    {
     "name": "stderr",
     "output_type": "stream",
     "text": [
      "\n"
     ]
    }
   ],
   "source": [
    "# Define the ticker symbol and time range\n",
    "\n",
    "start_date = \"2010-01-01\"\n",
    "end_date = \"2024-11-05\"\n",
    "\n",
    "#Downlod the historical data according to the date above\n",
    "\n",
    "data = yf.download(ticker, start=start_date, end=end_date)\n",
    "\n",
    "# Display the first few rows of the dataset\n",
    "print(data.head())\n"
   ]
  },
  {
   "cell_type": "markdown",
   "id": "1ca49cc8-bf54-407d-b784-b9a60ecd826f",
   "metadata": {},
   "source": [
    "## Exploring the Data"
   ]
  },
  {
   "cell_type": "code",
   "execution_count": 8,
   "id": "be4192fa-8af1-4ddc-b6c7-3f5d30b1d863",
   "metadata": {},
   "outputs": [
    {
     "data": {
      "text/plain": [
       "<bound method DataFrame.info of Price                       Adj Close       Close        High         Low  \\\n",
       "Ticker                           AAPL        AAPL        AAPL        AAPL   \n",
       "Date                                                                        \n",
       "2010-01-04 00:00:00+00:00    6.447411    7.643214    7.660714    7.585000   \n",
       "2010-01-05 00:00:00+00:00    6.458560    7.656429    7.699643    7.616071   \n",
       "2010-01-06 00:00:00+00:00    6.355828    7.534643    7.686786    7.526786   \n",
       "2010-01-07 00:00:00+00:00    6.344078    7.520714    7.571429    7.466071   \n",
       "2010-01-08 00:00:00+00:00    6.386253    7.570714    7.571429    7.466429   \n",
       "...                               ...         ...         ...         ...   \n",
       "2024-10-29 00:00:00+00:00  233.413193  233.669998  234.330002  232.320007   \n",
       "2024-10-30 00:00:00+00:00  229.847122  230.100006  233.470001  229.550003   \n",
       "2024-10-31 00:00:00+00:00  225.661728  225.910004  229.830002  225.369995   \n",
       "2024-11-01 00:00:00+00:00  222.665024  222.910004  225.350006  220.270004   \n",
       "2024-11-04 00:00:00+00:00  221.766006  222.009995  222.789993  219.710007   \n",
       "\n",
       "Price                            Open     Volume  \n",
       "Ticker                           AAPL       AAPL  \n",
       "Date                                              \n",
       "2010-01-04 00:00:00+00:00    7.622500  493729600  \n",
       "2010-01-05 00:00:00+00:00    7.664286  601904800  \n",
       "2010-01-06 00:00:00+00:00    7.656429  552160000  \n",
       "2010-01-07 00:00:00+00:00    7.562500  477131200  \n",
       "2010-01-08 00:00:00+00:00    7.510714  447610800  \n",
       "...                               ...        ...  \n",
       "2024-10-29 00:00:00+00:00  233.100006   35417200  \n",
       "2024-10-30 00:00:00+00:00  232.610001   47070900  \n",
       "2024-10-31 00:00:00+00:00  229.339996   64370100  \n",
       "2024-11-01 00:00:00+00:00  220.970001   65276700  \n",
       "2024-11-04 00:00:00+00:00  220.990005   44944500  \n",
       "\n",
       "[3735 rows x 6 columns]>"
      ]
     },
     "execution_count": 8,
     "metadata": {},
     "output_type": "execute_result"
    }
   ],
   "source": [
    "data.info"
   ]
  },
  {
   "cell_type": "code",
   "execution_count": 61,
   "id": "2bd8a7cc-b7b8-42d5-ba2b-30eed6cdc934",
   "metadata": {},
   "outputs": [
    {
     "data": {
      "text/plain": [
       "0"
      ]
     },
     "execution_count": 61,
     "metadata": {},
     "output_type": "execute_result"
    }
   ],
   "source": [
    "data = data.isnull().sum()\n",
    "data"
   ]
  },
  {
   "cell_type": "code",
   "execution_count": 9,
   "id": "cb98f165-c704-4d8a-a360-e8b7041e7b84",
   "metadata": {},
   "outputs": [
    {
     "data": {
      "text/html": [
       "<div>\n",
       "<style scoped>\n",
       "    .dataframe tbody tr th:only-of-type {\n",
       "        vertical-align: middle;\n",
       "    }\n",
       "\n",
       "    .dataframe tbody tr th {\n",
       "        vertical-align: top;\n",
       "    }\n",
       "\n",
       "    .dataframe thead tr th {\n",
       "        text-align: left;\n",
       "    }\n",
       "</style>\n",
       "<table border=\"1\" class=\"dataframe\">\n",
       "  <thead>\n",
       "    <tr>\n",
       "      <th>Price</th>\n",
       "      <th>Adj Close</th>\n",
       "      <th>Close</th>\n",
       "      <th>High</th>\n",
       "      <th>Low</th>\n",
       "      <th>Open</th>\n",
       "      <th>Volume</th>\n",
       "    </tr>\n",
       "    <tr>\n",
       "      <th>Ticker</th>\n",
       "      <th>AAPL</th>\n",
       "      <th>AAPL</th>\n",
       "      <th>AAPL</th>\n",
       "      <th>AAPL</th>\n",
       "      <th>AAPL</th>\n",
       "      <th>AAPL</th>\n",
       "    </tr>\n",
       "  </thead>\n",
       "  <tbody>\n",
       "    <tr>\n",
       "      <th>count</th>\n",
       "      <td>3735.000000</td>\n",
       "      <td>3735.000000</td>\n",
       "      <td>3735.000000</td>\n",
       "      <td>3735.000000</td>\n",
       "      <td>3735.000000</td>\n",
       "      <td>3.735000e+03</td>\n",
       "    </tr>\n",
       "    <tr>\n",
       "      <th>mean</th>\n",
       "      <td>65.799386</td>\n",
       "      <td>67.986343</td>\n",
       "      <td>68.655216</td>\n",
       "      <td>67.255210</td>\n",
       "      <td>67.939741</td>\n",
       "      <td>2.318498e+08</td>\n",
       "    </tr>\n",
       "    <tr>\n",
       "      <th>std</th>\n",
       "      <td>63.595873</td>\n",
       "      <td>63.265853</td>\n",
       "      <td>63.880811</td>\n",
       "      <td>62.583074</td>\n",
       "      <td>63.210259</td>\n",
       "      <td>2.183752e+08</td>\n",
       "    </tr>\n",
       "    <tr>\n",
       "      <th>min</th>\n",
       "      <td>5.785831</td>\n",
       "      <td>6.858929</td>\n",
       "      <td>7.000000</td>\n",
       "      <td>6.794643</td>\n",
       "      <td>6.870357</td>\n",
       "      <td>2.404830e+07</td>\n",
       "    </tr>\n",
       "    <tr>\n",
       "      <th>25%</th>\n",
       "      <td>17.370378</td>\n",
       "      <td>20.391787</td>\n",
       "      <td>20.518393</td>\n",
       "      <td>20.198393</td>\n",
       "      <td>20.397142</td>\n",
       "      <td>8.631980e+07</td>\n",
       "    </tr>\n",
       "    <tr>\n",
       "      <th>50%</th>\n",
       "      <td>34.196114</td>\n",
       "      <td>36.647499</td>\n",
       "      <td>36.875000</td>\n",
       "      <td>36.287498</td>\n",
       "      <td>36.689999</td>\n",
       "      <td>1.422440e+08</td>\n",
       "    </tr>\n",
       "    <tr>\n",
       "      <th>75%</th>\n",
       "      <td>123.825771</td>\n",
       "      <td>126.314999</td>\n",
       "      <td>127.924999</td>\n",
       "      <td>125.091248</td>\n",
       "      <td>126.709999</td>\n",
       "      <td>3.111836e+08</td>\n",
       "    </tr>\n",
       "    <tr>\n",
       "      <th>max</th>\n",
       "      <td>236.220108</td>\n",
       "      <td>236.479996</td>\n",
       "      <td>237.490005</td>\n",
       "      <td>234.449997</td>\n",
       "      <td>236.479996</td>\n",
       "      <td>1.880998e+09</td>\n",
       "    </tr>\n",
       "  </tbody>\n",
       "</table>\n",
       "</div>"
      ],
      "text/plain": [
       "Price     Adj Close        Close         High          Low         Open  \\\n",
       "Ticker         AAPL         AAPL         AAPL         AAPL         AAPL   \n",
       "count   3735.000000  3735.000000  3735.000000  3735.000000  3735.000000   \n",
       "mean      65.799386    67.986343    68.655216    67.255210    67.939741   \n",
       "std       63.595873    63.265853    63.880811    62.583074    63.210259   \n",
       "min        5.785831     6.858929     7.000000     6.794643     6.870357   \n",
       "25%       17.370378    20.391787    20.518393    20.198393    20.397142   \n",
       "50%       34.196114    36.647499    36.875000    36.287498    36.689999   \n",
       "75%      123.825771   126.314999   127.924999   125.091248   126.709999   \n",
       "max      236.220108   236.479996   237.490005   234.449997   236.479996   \n",
       "\n",
       "Price         Volume  \n",
       "Ticker          AAPL  \n",
       "count   3.735000e+03  \n",
       "mean    2.318498e+08  \n",
       "std     2.183752e+08  \n",
       "min     2.404830e+07  \n",
       "25%     8.631980e+07  \n",
       "50%     1.422440e+08  \n",
       "75%     3.111836e+08  \n",
       "max     1.880998e+09  "
      ]
     },
     "execution_count": 9,
     "metadata": {},
     "output_type": "execute_result"
    }
   ],
   "source": [
    "data.describe()"
   ]
  },
  {
   "cell_type": "code",
   "execution_count": 28,
   "id": "b3b14db6-6beb-4d6a-90ea-001b845acbe5",
   "metadata": {},
   "outputs": [],
   "source": [
    "# Rename the ADJ Close colum to Adj_Close"
   ]
  },
  {
   "cell_type": "code",
   "execution_count": 31,
   "id": "25d0817b-fbff-4aa4-8305-ecda47a10397",
   "metadata": {},
   "outputs": [],
   "source": [
    "data = data.rename(columns={\"Adj Close\": \"Adj_Close\" })"
   ]
  },
  {
   "cell_type": "code",
   "execution_count": 32,
   "id": "9197d2f5-79aa-43ab-b7ba-bede8ba39cd6",
   "metadata": {},
   "outputs": [
    {
     "data": {
      "text/plain": [
       "DatetimeIndex(['2010-01-04 00:00:00+00:00', '2010-01-05 00:00:00+00:00',\n",
       "               '2010-01-06 00:00:00+00:00', '2010-01-07 00:00:00+00:00',\n",
       "               '2010-01-08 00:00:00+00:00', '2010-01-11 00:00:00+00:00',\n",
       "               '2010-01-12 00:00:00+00:00', '2010-01-13 00:00:00+00:00',\n",
       "               '2010-01-14 00:00:00+00:00', '2010-01-15 00:00:00+00:00',\n",
       "               ...\n",
       "               '2024-10-22 00:00:00+00:00', '2024-10-23 00:00:00+00:00',\n",
       "               '2024-10-24 00:00:00+00:00', '2024-10-25 00:00:00+00:00',\n",
       "               '2024-10-28 00:00:00+00:00', '2024-10-29 00:00:00+00:00',\n",
       "               '2024-10-30 00:00:00+00:00', '2024-10-31 00:00:00+00:00',\n",
       "               '2024-11-01 00:00:00+00:00', '2024-11-04 00:00:00+00:00'],\n",
       "              dtype='datetime64[ns, UTC]', name='Date', length=3735, freq=None)"
      ]
     },
     "execution_count": 32,
     "metadata": {},
     "output_type": "execute_result"
    }
   ],
   "source": [
    "data.index                                                                                                                      "
   ]
  },
  {
   "cell_type": "code",
   "execution_count": 33,
   "id": "c7a37e82-98f6-408f-a489-ca7e55ebc70b",
   "metadata": {},
   "outputs": [
    {
     "name": "stdout",
     "output_type": "stream",
     "text": [
      "MultiIndex([('Adj_Close', 'AAPL'),\n",
      "            (    'Close', 'AAPL'),\n",
      "            (     'High', 'AAPL'),\n",
      "            (      'Low', 'AAPL'),\n",
      "            (     'Open', 'AAPL'),\n",
      "            (   'Volume', 'AAPL')],\n",
      "           names=['Price', 'Ticker'])\n"
     ]
    }
   ],
   "source": [
    "print (data.columns)"
   ]
  },
  {
   "cell_type": "code",
   "execution_count": 34,
   "id": "fb276720-8a2b-43fc-9c30-9839c9f2ad02",
   "metadata": {},
   "outputs": [
    {
     "data": {
      "text/plain": [
       "(3735, 6)"
      ]
     },
     "execution_count": 34,
     "metadata": {},
     "output_type": "execute_result"
    }
   ],
   "source": [
    "data.shape"
   ]
  },
  {
   "cell_type": "code",
   "execution_count": 35,
   "id": "41c76b9a-ac77-4f3c-b979-806f3d7a283a",
   "metadata": {},
   "outputs": [
    {
     "data": {
      "image/png": "[encoded data removed]",
      "text/plain": [
       "<Figure size 1200x600 with 1 Axes>"
      ]
     },
     "metadata": {},
     "output_type": "display_data"
    }
   ],
   "source": [
    "# Plot the closing price\n",
    "\n",
    "plt.figure(figsize=(12, 6))\n",
    "plt.plot(data, label=\"AAPL Close Price\")\n",
    "plt.title(\"Apple Stock Price Over Time\")\n",
    "plt.xlabel(\"Date\")\n",
    "plt.ylabel(\"Close Price (USD)\")\n",
    "#plt.legend()\n",
    "plt.show()"
   ]
  },
  {
   "cell_type": "markdown",
   "id": "61b7101c-72af-4483-a7ed-aa38337acf3b",
   "metadata": {},
   "source": [
    "## Preprocesing the data"
   ]
  },
  {
   "cell_type": "code",
   "execution_count": 36,
   "id": "f1406b07-960f-4f5f-8c30-a8b97a5e66f9",
   "metadata": {},
   "outputs": [],
   "source": [
    "#Resample the data"
   ]
  },
  {
   "cell_type": "code",
   "execution_count": 51,
   "id": "07865062-32e5-4bd0-94d8-a688cf77c1ca",
   "metadata": {},
   "outputs": [],
   "source": [
    "daily_data = data.resample('D').mean()"
   ]
  },
  {
   "cell_type": "code",
   "execution_count": 52,
   "id": "421eb0f0-132e-4592-8f76-4c05fad84360",
   "metadata": {},
   "outputs": [
    {
     "data": {
      "text/html": [
       "<div>\n",
       "<style scoped>\n",
       "    .dataframe tbody tr th:only-of-type {\n",
       "        vertical-align: middle;\n",
       "    }\n",
       "\n",
       "    .dataframe tbody tr th {\n",
       "        vertical-align: top;\n",
       "    }\n",
       "\n",
       "    .dataframe thead tr th {\n",
       "        text-align: left;\n",
       "    }\n",
       "\n",
       "    .dataframe thead tr:last-of-type th {\n",
       "        text-align: right;\n",
       "    }\n",
       "</style>\n",
       "<table border=\"1\" class=\"dataframe\">\n",
       "  <thead>\n",
       "    <tr>\n",
       "      <th>Price</th>\n",
       "      <th>Adj_Close</th>\n",
       "      <th>Close</th>\n",
       "      <th>High</th>\n",
       "      <th>Low</th>\n",
       "      <th>Open</th>\n",
       "      <th>Volume</th>\n",
       "    </tr>\n",
       "    <tr>\n",
       "      <th>Ticker</th>\n",
       "      <th>AAPL</th>\n",
       "      <th>AAPL</th>\n",
       "      <th>AAPL</th>\n",
       "      <th>AAPL</th>\n",
       "      <th>AAPL</th>\n",
       "      <th>AAPL</th>\n",
       "    </tr>\n",
       "    <tr>\n",
       "      <th>Date</th>\n",
       "      <th></th>\n",
       "      <th></th>\n",
       "      <th></th>\n",
       "      <th></th>\n",
       "      <th></th>\n",
       "      <th></th>\n",
       "    </tr>\n",
       "  </thead>\n",
       "  <tbody>\n",
       "    <tr>\n",
       "      <th>2010-01-04 00:00:00+00:00</th>\n",
       "      <td>6.447411</td>\n",
       "      <td>7.643214</td>\n",
       "      <td>7.660714</td>\n",
       "      <td>7.585000</td>\n",
       "      <td>7.622500</td>\n",
       "      <td>493729600.0</td>\n",
       "    </tr>\n",
       "    <tr>\n",
       "      <th>2010-01-05 00:00:00+00:00</th>\n",
       "      <td>6.458560</td>\n",
       "      <td>7.656429</td>\n",
       "      <td>7.699643</td>\n",
       "      <td>7.616071</td>\n",
       "      <td>7.664286</td>\n",
       "      <td>601904800.0</td>\n",
       "    </tr>\n",
       "    <tr>\n",
       "      <th>2010-01-06 00:00:00+00:00</th>\n",
       "      <td>6.355828</td>\n",
       "      <td>7.534643</td>\n",
       "      <td>7.686786</td>\n",
       "      <td>7.526786</td>\n",
       "      <td>7.656429</td>\n",
       "      <td>552160000.0</td>\n",
       "    </tr>\n",
       "    <tr>\n",
       "      <th>2010-01-07 00:00:00+00:00</th>\n",
       "      <td>6.344078</td>\n",
       "      <td>7.520714</td>\n",
       "      <td>7.571429</td>\n",
       "      <td>7.466071</td>\n",
       "      <td>7.562500</td>\n",
       "      <td>477131200.0</td>\n",
       "    </tr>\n",
       "    <tr>\n",
       "      <th>2010-01-08 00:00:00+00:00</th>\n",
       "      <td>6.386253</td>\n",
       "      <td>7.570714</td>\n",
       "      <td>7.571429</td>\n",
       "      <td>7.466429</td>\n",
       "      <td>7.510714</td>\n",
       "      <td>447610800.0</td>\n",
       "    </tr>\n",
       "    <tr>\n",
       "      <th>...</th>\n",
       "      <td>...</td>\n",
       "      <td>...</td>\n",
       "      <td>...</td>\n",
       "      <td>...</td>\n",
       "      <td>...</td>\n",
       "      <td>...</td>\n",
       "    </tr>\n",
       "    <tr>\n",
       "      <th>2024-10-31 00:00:00+00:00</th>\n",
       "      <td>225.661728</td>\n",
       "      <td>225.910004</td>\n",
       "      <td>229.830002</td>\n",
       "      <td>225.369995</td>\n",
       "      <td>229.339996</td>\n",
       "      <td>64370100.0</td>\n",
       "    </tr>\n",
       "    <tr>\n",
       "      <th>2024-11-01 00:00:00+00:00</th>\n",
       "      <td>222.665024</td>\n",
       "      <td>222.910004</td>\n",
       "      <td>225.350006</td>\n",
       "      <td>220.270004</td>\n",
       "      <td>220.970001</td>\n",
       "      <td>65276700.0</td>\n",
       "    </tr>\n",
       "    <tr>\n",
       "      <th>2024-11-02 00:00:00+00:00</th>\n",
       "      <td>NaN</td>\n",
       "      <td>NaN</td>\n",
       "      <td>NaN</td>\n",
       "      <td>NaN</td>\n",
       "      <td>NaN</td>\n",
       "      <td>NaN</td>\n",
       "    </tr>\n",
       "    <tr>\n",
       "      <th>2024-11-03 00:00:00+00:00</th>\n",
       "      <td>NaN</td>\n",
       "      <td>NaN</td>\n",
       "      <td>NaN</td>\n",
       "      <td>NaN</td>\n",
       "      <td>NaN</td>\n",
       "      <td>NaN</td>\n",
       "    </tr>\n",
       "    <tr>\n",
       "      <th>2024-11-04 00:00:00+00:00</th>\n",
       "      <td>221.766006</td>\n",
       "      <td>222.009995</td>\n",
       "      <td>222.789993</td>\n",
       "      <td>219.710007</td>\n",
       "      <td>220.990005</td>\n",
       "      <td>44944500.0</td>\n",
       "    </tr>\n",
       "  </tbody>\n",
       "</table>\n",
       "<p>5419 rows × 6 columns</p>\n",
       "</div>"
      ],
      "text/plain": [
       "Price                       Adj_Close       Close        High         Low  \\\n",
       "Ticker                           AAPL        AAPL        AAPL        AAPL   \n",
       "Date                                                                        \n",
       "2010-01-04 00:00:00+00:00    6.447411    7.643214    7.660714    7.585000   \n",
       "2010-01-05 00:00:00+00:00    6.458560    7.656429    7.699643    7.616071   \n",
       "2010-01-06 00:00:00+00:00    6.355828    7.534643    7.686786    7.526786   \n",
       "2010-01-07 00:00:00+00:00    6.344078    7.520714    7.571429    7.466071   \n",
       "2010-01-08 00:00:00+00:00    6.386253    7.570714    7.571429    7.466429   \n",
       "...                               ...         ...         ...         ...   \n",
       "2024-10-31 00:00:00+00:00  225.661728  225.910004  229.830002  225.369995   \n",
       "2024-11-01 00:00:00+00:00  222.665024  222.910004  225.350006  220.270004   \n",
       "2024-11-02 00:00:00+00:00         NaN         NaN         NaN         NaN   \n",
       "2024-11-03 00:00:00+00:00         NaN         NaN         NaN         NaN   \n",
       "2024-11-04 00:00:00+00:00  221.766006  222.009995  222.789993  219.710007   \n",
       "\n",
       "Price                            Open       Volume  \n",
       "Ticker                           AAPL         AAPL  \n",
       "Date                                                \n",
       "2010-01-04 00:00:00+00:00    7.622500  493729600.0  \n",
       "2010-01-05 00:00:00+00:00    7.664286  601904800.0  \n",
       "2010-01-06 00:00:00+00:00    7.656429  552160000.0  \n",
       "2010-01-07 00:00:00+00:00    7.562500  477131200.0  \n",
       "2010-01-08 00:00:00+00:00    7.510714  447610800.0  \n",
       "...                               ...          ...  \n",
       "2024-10-31 00:00:00+00:00  229.339996   64370100.0  \n",
       "2024-11-01 00:00:00+00:00  220.970001   65276700.0  \n",
       "2024-11-02 00:00:00+00:00         NaN          NaN  \n",
       "2024-11-03 00:00:00+00:00         NaN          NaN  \n",
       "2024-11-04 00:00:00+00:00  220.990005   44944500.0  \n",
       "\n",
       "[5419 rows x 6 columns]"
      ]
     },
     "execution_count": 52,
     "metadata": {},
     "output_type": "execute_result"
    }
   ],
   "source": [
    "daily_data"
   ]
  },
  {
   "cell_type": "code",
   "execution_count": 68,
   "id": "fa5ba7e4-3746-401e-b117-acba226fd60f",
   "metadata": {},
   "outputs": [
    {
     "ename": "AttributeError",
     "evalue": "'numpy.int64' object has no attribute 'isna'",
     "output_type": "error",
     "traceback": [
      "\u001b[1;31m---------------------------------------------------------------------------\u001b[0m",
      "\u001b[1;31mAttributeError\u001b[0m                            Traceback (most recent call last)",
      "Cell \u001b[1;32mIn[68], line 1\u001b[0m\n\u001b[1;32m----> 1\u001b[0m nan_summary \u001b[38;5;241m=\u001b[39m \u001b[43mdata\u001b[49m\u001b[38;5;241;43m.\u001b[39;49m\u001b[43misna\u001b[49m()\u001b[38;5;241m.\u001b[39msum()\n\u001b[0;32m      3\u001b[0m \u001b[38;5;66;03m# Print the number of NaN values for each column\u001b[39;00m\n\u001b[0;32m      4\u001b[0m \u001b[38;5;28mprint\u001b[39m(\u001b[38;5;124m\"\u001b[39m\u001b[38;5;124mNumber of NaN values in each column:\u001b[39m\u001b[38;5;124m\"\u001b[39m)\n",
      "\u001b[1;31mAttributeError\u001b[0m: 'numpy.int64' object has no attribute 'isna'"
     ]
    }
   ],
   "source": [
    "nan_summary = data.isna().sum()\n",
    "\n",
    "# Print the number of NaN values for each column\n",
    "print(\"Number of NaN values in each column:\")\n",
    "print(nan_summary)"
   ]
  },
  {
   "cell_type": "markdown",
   "id": "df2854ad-2a5c-4788-b450-1426964e879f",
   "metadata": {},
   "source": [
    "## Stationery Testing"
   ]
  },
  {
   "cell_type": "code",
   "execution_count": 22,
   "id": "4069d4aa-cf3e-40f9-a3bb-258b498b69cc",
   "metadata": {},
   "outputs": [],
   "source": [
    "## Checking if our data is stationery using the ADF (Augmented Dickey-Fuller) from the statsmodel Library"
   ]
  },
  {
   "cell_type": "code",
   "execution_count": 39,
   "id": "58526c23-a55e-460e-b03e-6dc4d21012d5",
   "metadata": {},
   "outputs": [],
   "source": [
    "from statsmodels.tsa.stattools import adfuller"
   ]
  },
  {
   "cell_type": "code",
   "execution_count": 66,
   "id": "c09f4746-a8c6-413f-a0e7-3d676774acf9",
   "metadata": {},
   "outputs": [
    {
     "ename": "IndexError",
     "evalue": "invalid index to scalar variable.",
     "output_type": "error",
     "traceback": [
      "\u001b[1;31m---------------------------------------------------------------------------\u001b[0m",
      "\u001b[1;31mIndexError\u001b[0m                                Traceback (most recent call last)",
      "Cell \u001b[1;32mIn[66], line 1\u001b[0m\n\u001b[1;32m----> 1\u001b[0m \u001b[43mdaily_data\u001b[49m\u001b[43m[\u001b[49m\u001b[38;5;124;43m'\u001b[39;49m\u001b[38;5;124;43mHigh\u001b[39;49m\u001b[38;5;124;43m'\u001b[39;49m\u001b[43m]\u001b[49m\u001b[38;5;241m.\u001b[39mhist()\n",
      "\u001b[1;31mIndexError\u001b[0m: invalid index to scalar variable."
     ]
    }
   ],
   "source": []
  },
  {
   "cell_type": "code",
   "execution_count": null,
   "id": "9bad88f9-b5e8-4f96-9325-ae4f092eb9af",
   "metadata": {},
   "outputs": [],
   "source": []
  }
 ],
 "metadata": {
  "kernelspec": {
   "display_name": "Python 3 (ipykernel)",
   "language": "python",
   "name": "python3"
  },
  "language_info": {
   "codemirror_mode": {
    "name": "ipython",
    "version": 3
   },
   "file_extension": ".py",
   "mimetype": "text/x-python",
   "name": "python",
   "nbconvert_exporter": "python",
   "pygments_lexer": "ipython3",
   "version": "3.8.20"
  }
 },
 "nbformat": 4,
 "nbformat_minor": 5
}
