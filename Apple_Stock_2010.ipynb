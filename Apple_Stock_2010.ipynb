{
 "cells": [
  {
   "cell_type": "code",
   "execution_count": null,
   "id": "e935fcd5-22fb-443a-8e34-cddc41851f96",
   "metadata": {},
   "outputs": [],
   "source": [
    "# Import the necessary Libraries"
   ]
  },
  {
   "cell_type": "code",
   "execution_count": 1,
   "id": "16fcec93-db50-4093-bfea-c8cdf4ff2e63",
   "metadata": {},
   "outputs": [],
   "source": [
    "import yfinance as yf\n",
    "import pandas as pd\n",
    "import matplotlib.pyplot as plt\n",
    "from datetime import datetime, timedelta"
   ]
  },
  {
   "cell_type": "code",
   "execution_count": null,
   "id": "df0928d4-764b-449a-b304-51ef9b75fa89",
   "metadata": {},
   "outputs": [],
   "source": [
    "ticker = \"AAPL\"\n",
    "start_date = \"2010-01-01\"\n",
    "end_date = \"2024-11-05\"\n",
    "\n",
    "# Download the historical data\n",
    "data = yf.download(ticker, start=start_date, end=end_date)\n",
    "\n",
    "# Save the data to a CSV file\n",
    "data.to_csv(\"AAPL_historical_data.csv\")\n",
    "\n",
    "print(\"Data downloaded and saved as 'AAPL_historical_data.csv'\")"
   ]
  },
  {
   "cell_type": "code",
   "execution_count": 2,
   "id": "4cd818f2-1b4f-47e7-b49f-dacf8c6f9365",
   "metadata": {},
   "outputs": [],
   "source": [
    "Apple_Data = pd.read_csv(\"AAPL_historical_data.csv\")"
   ]
  },
  {
   "cell_type": "code",
   "execution_count": 3,
   "id": "9853405c-0af4-41c6-8ace-952faf25e6f1",
   "metadata": {},
   "outputs": [
    {
     "data": {
      "text/html": [
       "<div>\n",
       "<style scoped>\n",
       "    .dataframe tbody tr th:only-of-type {\n",
       "        vertical-align: middle;\n",
       "    }\n",
       "\n",
       "    .dataframe tbody tr th {\n",
       "        vertical-align: top;\n",
       "    }\n",
       "\n",
       "    .dataframe thead th {\n",
       "        text-align: right;\n",
       "    }\n",
       "</style>\n",
       "<table border=\"1\" class=\"dataframe\">\n",
       "  <thead>\n",
       "    <tr style=\"text-align: right;\">\n",
       "      <th></th>\n",
       "      <th>Date</th>\n",
       "      <th>Adj Close</th>\n",
       "      <th>Close</th>\n",
       "      <th>High</th>\n",
       "      <th>Low</th>\n",
       "      <th>Open</th>\n",
       "      <th>Volume</th>\n",
       "    </tr>\n",
       "  </thead>\n",
       "  <tbody>\n",
       "    <tr>\n",
       "      <th>0</th>\n",
       "      <td>2010-01-04 00:00:00+00:00</td>\n",
       "      <td>6.447413</td>\n",
       "      <td>7.643214</td>\n",
       "      <td>7.660714</td>\n",
       "      <td>7.585000</td>\n",
       "      <td>7.622500</td>\n",
       "      <td>493729600</td>\n",
       "    </tr>\n",
       "    <tr>\n",
       "      <th>1</th>\n",
       "      <td>2010-01-05 00:00:00+00:00</td>\n",
       "      <td>6.458560</td>\n",
       "      <td>7.656429</td>\n",
       "      <td>7.699643</td>\n",
       "      <td>7.616071</td>\n",
       "      <td>7.664286</td>\n",
       "      <td>601904800</td>\n",
       "    </tr>\n",
       "    <tr>\n",
       "      <th>2</th>\n",
       "      <td>2010-01-06 00:00:00+00:00</td>\n",
       "      <td>6.355827</td>\n",
       "      <td>7.534643</td>\n",
       "      <td>7.686786</td>\n",
       "      <td>7.526786</td>\n",
       "      <td>7.656429</td>\n",
       "      <td>552160000</td>\n",
       "    </tr>\n",
       "    <tr>\n",
       "      <th>3</th>\n",
       "      <td>2010-01-07 00:00:00+00:00</td>\n",
       "      <td>6.344077</td>\n",
       "      <td>7.520714</td>\n",
       "      <td>7.571429</td>\n",
       "      <td>7.466071</td>\n",
       "      <td>7.562500</td>\n",
       "      <td>477131200</td>\n",
       "    </tr>\n",
       "    <tr>\n",
       "      <th>4</th>\n",
       "      <td>2010-01-08 00:00:00+00:00</td>\n",
       "      <td>6.386256</td>\n",
       "      <td>7.570714</td>\n",
       "      <td>7.571429</td>\n",
       "      <td>7.466429</td>\n",
       "      <td>7.510714</td>\n",
       "      <td>447610800</td>\n",
       "    </tr>\n",
       "  </tbody>\n",
       "</table>\n",
       "</div>"
      ],
      "text/plain": [
       "                        Date  Adj Close     Close      High       Low  \\\n",
       "0  2010-01-04 00:00:00+00:00   6.447413  7.643214  7.660714  7.585000   \n",
       "1  2010-01-05 00:00:00+00:00   6.458560  7.656429  7.699643  7.616071   \n",
       "2  2010-01-06 00:00:00+00:00   6.355827  7.534643  7.686786  7.526786   \n",
       "3  2010-01-07 00:00:00+00:00   6.344077  7.520714  7.571429  7.466071   \n",
       "4  2010-01-08 00:00:00+00:00   6.386256  7.570714  7.571429  7.466429   \n",
       "\n",
       "       Open     Volume  \n",
       "0  7.622500  493729600  \n",
       "1  7.664286  601904800  \n",
       "2  7.656429  552160000  \n",
       "3  7.562500  477131200  \n",
       "4  7.510714  447610800  "
      ]
     },
     "execution_count": 3,
     "metadata": {},
     "output_type": "execute_result"
    }
   ],
   "source": [
    "Apple_Data.head(5)"
   ]
  },
  {
   "cell_type": "code",
   "execution_count": 4,
   "id": "b4ae690f-e533-4619-8571-42932bb89496",
   "metadata": {},
   "outputs": [],
   "source": [
    "#Check for NaN values"
   ]
  },
  {
   "cell_type": "code",
   "execution_count": 5,
   "id": "73f42080-726f-4b97-8eb5-23cc10520bb9",
   "metadata": {},
   "outputs": [
    {
     "data": {
      "text/plain": [
       "Date         0\n",
       "Adj Close    0\n",
       "Close        0\n",
       "High         0\n",
       "Low          0\n",
       "Open         0\n",
       "Volume       0\n",
       "dtype: int64"
      ]
     },
     "execution_count": 5,
     "metadata": {},
     "output_type": "execute_result"
    }
   ],
   "source": [
    "Apple_Data.isnull().sum()"
   ]
  },
  {
   "cell_type": "code",
   "execution_count": 6,
   "id": "f504b28b-9597-4261-bcd8-7fe5ff1ec287",
   "metadata": {},
   "outputs": [],
   "source": [
    "## Reset the index to access the 'Ticker' column\n",
    "data_reset = Apple_Data.reset_index()"
   ]
  },
  {
   "cell_type": "code",
   "execution_count": 7,
   "id": "5f7b40ca-adf8-4ddd-8de8-e6be757c30e1",
   "metadata": {},
   "outputs": [
    {
     "name": "stdout",
     "output_type": "stream",
     "text": [
      "RangeIndex(start=0, stop=3735, step=1)\n"
     ]
    }
   ],
   "source": [
    "print(Apple_Data.index)"
   ]
  },
  {
   "cell_type": "code",
   "execution_count": 8,
   "id": "160af859-ab04-45f1-8acd-0cac7024f90a",
   "metadata": {},
   "outputs": [
    {
     "data": {
      "text/plain": [
       "Index(['Date', 'Adj Close', 'Close', 'High', 'Low', 'Open', 'Volume'], dtype='object')"
      ]
     },
     "execution_count": 8,
     "metadata": {},
     "output_type": "execute_result"
    }
   ],
   "source": [
    "Apple_Data.columns"
   ]
  },
  {
   "cell_type": "code",
   "execution_count": 9,
   "id": "07a51445-3967-454c-81f5-f73bff69e031",
   "metadata": {},
   "outputs": [
    {
     "data": {
      "text/html": [
       "<div>\n",
       "<style scoped>\n",
       "    .dataframe tbody tr th:only-of-type {\n",
       "        vertical-align: middle;\n",
       "    }\n",
       "\n",
       "    .dataframe tbody tr th {\n",
       "        vertical-align: top;\n",
       "    }\n",
       "\n",
       "    .dataframe thead th {\n",
       "        text-align: right;\n",
       "    }\n",
       "</style>\n",
       "<table border=\"1\" class=\"dataframe\">\n",
       "  <thead>\n",
       "    <tr style=\"text-align: right;\">\n",
       "      <th></th>\n",
       "      <th>Date</th>\n",
       "      <th>Adj Close</th>\n",
       "      <th>Close</th>\n",
       "      <th>High</th>\n",
       "      <th>Low</th>\n",
       "      <th>Open</th>\n",
       "      <th>Volume</th>\n",
       "    </tr>\n",
       "  </thead>\n",
       "  <tbody>\n",
       "    <tr>\n",
       "      <th>3730</th>\n",
       "      <td>2024-10-29 00:00:00+00:00</td>\n",
       "      <td>233.413193</td>\n",
       "      <td>233.669998</td>\n",
       "      <td>234.330002</td>\n",
       "      <td>232.320007</td>\n",
       "      <td>233.100006</td>\n",
       "      <td>35417200</td>\n",
       "    </tr>\n",
       "    <tr>\n",
       "      <th>3731</th>\n",
       "      <td>2024-10-30 00:00:00+00:00</td>\n",
       "      <td>229.847122</td>\n",
       "      <td>230.100006</td>\n",
       "      <td>233.470001</td>\n",
       "      <td>229.550003</td>\n",
       "      <td>232.610001</td>\n",
       "      <td>47070900</td>\n",
       "    </tr>\n",
       "    <tr>\n",
       "      <th>3732</th>\n",
       "      <td>2024-10-31 00:00:00+00:00</td>\n",
       "      <td>225.661728</td>\n",
       "      <td>225.910004</td>\n",
       "      <td>229.830002</td>\n",
       "      <td>225.369995</td>\n",
       "      <td>229.339996</td>\n",
       "      <td>64370100</td>\n",
       "    </tr>\n",
       "    <tr>\n",
       "      <th>3733</th>\n",
       "      <td>2024-11-01 00:00:00+00:00</td>\n",
       "      <td>222.665024</td>\n",
       "      <td>222.910004</td>\n",
       "      <td>225.350006</td>\n",
       "      <td>220.270004</td>\n",
       "      <td>220.970001</td>\n",
       "      <td>65276700</td>\n",
       "    </tr>\n",
       "    <tr>\n",
       "      <th>3734</th>\n",
       "      <td>2024-11-04 00:00:00+00:00</td>\n",
       "      <td>221.766007</td>\n",
       "      <td>222.009995</td>\n",
       "      <td>222.789993</td>\n",
       "      <td>219.710007</td>\n",
       "      <td>220.990005</td>\n",
       "      <td>44944500</td>\n",
       "    </tr>\n",
       "  </tbody>\n",
       "</table>\n",
       "</div>"
      ],
      "text/plain": [
       "                           Date   Adj Close       Close        High  \\\n",
       "3730  2024-10-29 00:00:00+00:00  233.413193  233.669998  234.330002   \n",
       "3731  2024-10-30 00:00:00+00:00  229.847122  230.100006  233.470001   \n",
       "3732  2024-10-31 00:00:00+00:00  225.661728  225.910004  229.830002   \n",
       "3733  2024-11-01 00:00:00+00:00  222.665024  222.910004  225.350006   \n",
       "3734  2024-11-04 00:00:00+00:00  221.766007  222.009995  222.789993   \n",
       "\n",
       "             Low        Open    Volume  \n",
       "3730  232.320007  233.100006  35417200  \n",
       "3731  229.550003  232.610001  47070900  \n",
       "3732  225.369995  229.339996  64370100  \n",
       "3733  220.270004  220.970001  65276700  \n",
       "3734  219.710007  220.990005  44944500  "
      ]
     },
     "execution_count": 9,
     "metadata": {},
     "output_type": "execute_result"
    }
   ],
   "source": [
    "Apple_Data.tail(5)"
   ]
  },
  {
   "cell_type": "markdown",
   "id": "ad115d71-0ebf-40fb-a307-30df2cf798fa",
   "metadata": {},
   "source": [
    "## Explore the Data and Visualization"
   ]
  },
  {
   "cell_type": "code",
   "execution_count": 10,
   "id": "bf112891-66ae-40fa-a9a9-b24b4a41f404",
   "metadata": {},
   "outputs": [],
   "source": [
    "# Check the Data types"
   ]
  },
  {
   "cell_type": "code",
   "execution_count": 11,
   "id": "8dd02cee-4d0e-426f-b58a-8cb070049bc4",
   "metadata": {},
   "outputs": [
    {
     "data": {
      "text/plain": [
       "Date          object\n",
       "Adj Close    float64\n",
       "Close        float64\n",
       "High         float64\n",
       "Low          float64\n",
       "Open         float64\n",
       "Volume         int64\n",
       "dtype: object"
      ]
     },
     "execution_count": 11,
     "metadata": {},
     "output_type": "execute_result"
    }
   ],
   "source": [
    "Apple_Data.dtypes"
   ]
  },
  {
   "cell_type": "code",
   "execution_count": 12,
   "id": "4251f56c-7630-415b-b401-26e186a65481",
   "metadata": {},
   "outputs": [],
   "source": [
    "#Covert Date to Date Time"
   ]
  },
  {
   "cell_type": "code",
   "execution_count": 13,
   "id": "5ebf92e2-c83c-47a4-abd9-3c1717885ea9",
   "metadata": {},
   "outputs": [
    {
     "name": "stdout",
     "output_type": "stream",
     "text": [
      "                          Date   Adj Close       Close        High  \\\n",
      "0    2010-01-04 00:00:00+00:00    6.447413    7.643214    7.660714   \n",
      "1    2010-01-05 00:00:00+00:00    6.458560    7.656429    7.699643   \n",
      "2    2010-01-06 00:00:00+00:00    6.355827    7.534643    7.686786   \n",
      "3    2010-01-07 00:00:00+00:00    6.344077    7.520714    7.571429   \n",
      "4    2010-01-08 00:00:00+00:00    6.386256    7.570714    7.571429   \n",
      "...                        ...         ...         ...         ...   \n",
      "3730 2024-10-29 00:00:00+00:00  233.413193  233.669998  234.330002   \n",
      "3731 2024-10-30 00:00:00+00:00  229.847122  230.100006  233.470001   \n",
      "3732 2024-10-31 00:00:00+00:00  225.661728  225.910004  229.830002   \n",
      "3733 2024-11-01 00:00:00+00:00  222.665024  222.910004  225.350006   \n",
      "3734 2024-11-04 00:00:00+00:00  221.766007  222.009995  222.789993   \n",
      "\n",
      "             Low        Open     Volume  \n",
      "0       7.585000    7.622500  493729600  \n",
      "1       7.616071    7.664286  601904800  \n",
      "2       7.526786    7.656429  552160000  \n",
      "3       7.466071    7.562500  477131200  \n",
      "4       7.466429    7.510714  447610800  \n",
      "...          ...         ...        ...  \n",
      "3730  232.320007  233.100006   35417200  \n",
      "3731  229.550003  232.610001   47070900  \n",
      "3732  225.369995  229.339996   64370100  \n",
      "3733  220.270004  220.970001   65276700  \n",
      "3734  219.710007  220.990005   44944500  \n",
      "\n",
      "[3735 rows x 7 columns]\n"
     ]
    }
   ],
   "source": [
    "Apple_Data['Date'] = pd.to_datetime(Apple_Data['Date'], errors='coerce')\n",
    "\n",
    "print(Apple_Data)"
   ]
  },
  {
   "cell_type": "code",
   "execution_count": 14,
   "id": "fc89c782-61a1-4be0-baaf-2c563a0ba4a5",
   "metadata": {},
   "outputs": [
    {
     "data": {
      "text/plain": [
       "Date         datetime64[ns, UTC]\n",
       "Adj Close                float64\n",
       "Close                    float64\n",
       "High                     float64\n",
       "Low                      float64\n",
       "Open                     float64\n",
       "Volume                     int64\n",
       "dtype: object"
      ]
     },
     "execution_count": 14,
     "metadata": {},
     "output_type": "execute_result"
    }
   ],
   "source": [
    "Apple_Data.dtypes"
   ]
  },
  {
   "cell_type": "code",
   "execution_count": 15,
   "id": "fe262987-29c0-4b60-8d7f-b086f053ed29",
   "metadata": {},
   "outputs": [
    {
     "data": {
      "text/html": [
       "<div>\n",
       "<style scoped>\n",
       "    .dataframe tbody tr th:only-of-type {\n",
       "        vertical-align: middle;\n",
       "    }\n",
       "\n",
       "    .dataframe tbody tr th {\n",
       "        vertical-align: top;\n",
       "    }\n",
       "\n",
       "    .dataframe thead th {\n",
       "        text-align: right;\n",
       "    }\n",
       "</style>\n",
       "<table border=\"1\" class=\"dataframe\">\n",
       "  <thead>\n",
       "    <tr style=\"text-align: right;\">\n",
       "      <th></th>\n",
       "      <th>Adj Close</th>\n",
       "      <th>Close</th>\n",
       "      <th>High</th>\n",
       "      <th>Low</th>\n",
       "      <th>Open</th>\n",
       "      <th>Volume</th>\n",
       "    </tr>\n",
       "  </thead>\n",
       "  <tbody>\n",
       "    <tr>\n",
       "      <th>count</th>\n",
       "      <td>3735.000000</td>\n",
       "      <td>3735.000000</td>\n",
       "      <td>3735.000000</td>\n",
       "      <td>3735.000000</td>\n",
       "      <td>3735.000000</td>\n",
       "      <td>3.735000e+03</td>\n",
       "    </tr>\n",
       "    <tr>\n",
       "      <th>mean</th>\n",
       "      <td>65.799386</td>\n",
       "      <td>67.986343</td>\n",
       "      <td>68.655216</td>\n",
       "      <td>67.255210</td>\n",
       "      <td>67.939741</td>\n",
       "      <td>2.318498e+08</td>\n",
       "    </tr>\n",
       "    <tr>\n",
       "      <th>std</th>\n",
       "      <td>63.595873</td>\n",
       "      <td>63.265853</td>\n",
       "      <td>63.880811</td>\n",
       "      <td>62.583074</td>\n",
       "      <td>63.210259</td>\n",
       "      <td>2.183752e+08</td>\n",
       "    </tr>\n",
       "    <tr>\n",
       "      <th>min</th>\n",
       "      <td>5.785830</td>\n",
       "      <td>6.858929</td>\n",
       "      <td>7.000000</td>\n",
       "      <td>6.794643</td>\n",
       "      <td>6.870357</td>\n",
       "      <td>2.404830e+07</td>\n",
       "    </tr>\n",
       "    <tr>\n",
       "      <th>25%</th>\n",
       "      <td>17.370376</td>\n",
       "      <td>20.391787</td>\n",
       "      <td>20.518393</td>\n",
       "      <td>20.198393</td>\n",
       "      <td>20.397142</td>\n",
       "      <td>8.631980e+07</td>\n",
       "    </tr>\n",
       "    <tr>\n",
       "      <th>50%</th>\n",
       "      <td>34.196106</td>\n",
       "      <td>36.647499</td>\n",
       "      <td>36.875000</td>\n",
       "      <td>36.287498</td>\n",
       "      <td>36.689999</td>\n",
       "      <td>1.422440e+08</td>\n",
       "    </tr>\n",
       "    <tr>\n",
       "      <th>75%</th>\n",
       "      <td>123.825775</td>\n",
       "      <td>126.314999</td>\n",
       "      <td>127.924999</td>\n",
       "      <td>125.091248</td>\n",
       "      <td>126.709999</td>\n",
       "      <td>3.111836e+08</td>\n",
       "    </tr>\n",
       "    <tr>\n",
       "      <th>max</th>\n",
       "      <td>236.220108</td>\n",
       "      <td>236.479996</td>\n",
       "      <td>237.490005</td>\n",
       "      <td>234.449997</td>\n",
       "      <td>236.479996</td>\n",
       "      <td>1.880998e+09</td>\n",
       "    </tr>\n",
       "  </tbody>\n",
       "</table>\n",
       "</div>"
      ],
      "text/plain": [
       "         Adj Close        Close         High          Low         Open  \\\n",
       "count  3735.000000  3735.000000  3735.000000  3735.000000  3735.000000   \n",
       "mean     65.799386    67.986343    68.655216    67.255210    67.939741   \n",
       "std      63.595873    63.265853    63.880811    62.583074    63.210259   \n",
       "min       5.785830     6.858929     7.000000     6.794643     6.870357   \n",
       "25%      17.370376    20.391787    20.518393    20.198393    20.397142   \n",
       "50%      34.196106    36.647499    36.875000    36.287498    36.689999   \n",
       "75%     123.825775   126.314999   127.924999   125.091248   126.709999   \n",
       "max     236.220108   236.479996   237.490005   234.449997   236.479996   \n",
       "\n",
       "             Volume  \n",
       "count  3.735000e+03  \n",
       "mean   2.318498e+08  \n",
       "std    2.183752e+08  \n",
       "min    2.404830e+07  \n",
       "25%    8.631980e+07  \n",
       "50%    1.422440e+08  \n",
       "75%    3.111836e+08  \n",
       "max    1.880998e+09  "
      ]
     },
     "execution_count": 15,
     "metadata": {},
     "output_type": "execute_result"
    }
   ],
   "source": [
    "Apple_Data.describe()"
   ]
  },
  {
   "cell_type": "code",
   "execution_count": 16,
   "id": "6d8c4a79-0973-4947-828a-78fd40608ff8",
   "metadata": {},
   "outputs": [
    {
     "data": {
      "text/plain": [
       "(3735, 7)"
      ]
     },
     "execution_count": 16,
     "metadata": {},
     "output_type": "execute_result"
    }
   ],
   "source": [
    "Apple_Data.shape"
   ]
  },
  {
   "cell_type": "code",
   "execution_count": 17,
   "id": "24f951ff-d1c5-4a1c-b5c8-aed1e0e4f539",
   "metadata": {},
   "outputs": [],
   "source": [
    "#Plot the closing price in a graph"
   ]
  },
  {
   "cell_type": "code",
   "execution_count": 30,
   "id": "ae344849-3b17-421c-9dd2-7b3e37ef84ac",
   "metadata": {},
   "outputs": [
    {
     "data": {
      "image/png": "[encoded data removed]",
      "text/plain": [
       "<Figure size 640x480 with 1 Axes>"
      ]
     },
     "metadata": {},
     "output_type": "display_data"
    }
   ],
   "source": [
    "plt.plot(Apple_Data['Close'])\n",
    "plt.title(\"Apple Stock Price from 2010 - 2024\")\n",
    "plt.xlabel(\"Date\")\n",
    "plt.ylabel(\"Close Price\")\n",
    "plt.show()"
   ]
  },
  {
   "cell_type": "code",
   "execution_count": 19,
   "id": "fe6ee671-e06d-467b-ad88-dda2536d1534",
   "metadata": {},
   "outputs": [],
   "source": [
    "# Fix the Date problems"
   ]
  },
  {
   "cell_type": "code",
   "execution_count": 20,
   "id": "b3dc7fe6-0261-4919-8aed-1b5809e2b531",
   "metadata": {},
   "outputs": [],
   "source": [
    "Apple_Data.set_index('Date', inplace=True)"
   ]
  },
  {
   "cell_type": "code",
   "execution_count": 29,
   "id": "68b6b09f-ea36-4e6f-b1b6-7c8ade123ae2",
   "metadata": {},
   "outputs": [
    {
     "data": {
      "image/png": "[encoded data removed]",
      "text/plain": [
       "<Figure size 640x480 with 1 Axes>"
      ]
     },
     "metadata": {},
     "output_type": "display_data"
    }
   ],
   "source": [
    "# Plot with 'Date' as x-axis\n",
    "plt.plot(Apple_Data.index, Apple_Data['Close'])\n",
    "plt.title(\"Apple Stock Price from 2010 - 2024\")\n",
    "plt.xlabel(\"Date\")\n",
    "plt.ylabel(\"Close Price\")\n",
    "plt.show()"
   ]
  },
  {
   "cell_type": "markdown",
   "id": "2d1be104-19ac-451d-97a8-7f40547c845b",
   "metadata": {},
   "source": [
    "## Data Preprocessing"
   ]
  },
  {
   "cell_type": "code",
   "execution_count": 22,
   "id": "5f2b3d19-6a0b-4273-ab0b-f27e2c4c1969",
   "metadata": {},
   "outputs": [],
   "source": [
    "#Rename the Adj Close to Adj Close"
   ]
  },
  {
   "cell_type": "code",
   "execution_count": 23,
   "id": "0d2098a3-33e0-4040-b6a7-bc6ccb30d53a",
   "metadata": {},
   "outputs": [],
   "source": [
    "Apple_Data.rename(columns={'Adj Close': 'Adj_Close'}, inplace=True)"
   ]
  },
  {
   "cell_type": "code",
   "execution_count": 24,
   "id": "b8ce89bd-1793-4eb0-a86e-59703028898a",
   "metadata": {},
   "outputs": [
    {
     "data": {
      "text/html": [
       "<div>\n",
       "<style scoped>\n",
       "    .dataframe tbody tr th:only-of-type {\n",
       "        vertical-align: middle;\n",
       "    }\n",
       "\n",
       "    .dataframe tbody tr th {\n",
       "        vertical-align: top;\n",
       "    }\n",
       "\n",
       "    .dataframe thead th {\n",
       "        text-align: right;\n",
       "    }\n",
       "</style>\n",
       "<table border=\"1\" class=\"dataframe\">\n",
       "  <thead>\n",
       "    <tr style=\"text-align: right;\">\n",
       "      <th></th>\n",
       "      <th>Adj_Close</th>\n",
       "      <th>Close</th>\n",
       "      <th>High</th>\n",
       "      <th>Low</th>\n",
       "      <th>Open</th>\n",
       "      <th>Volume</th>\n",
       "    </tr>\n",
       "    <tr>\n",
       "      <th>Date</th>\n",
       "      <th></th>\n",
       "      <th></th>\n",
       "      <th></th>\n",
       "      <th></th>\n",
       "      <th></th>\n",
       "      <th></th>\n",
       "    </tr>\n",
       "  </thead>\n",
       "  <tbody>\n",
       "    <tr>\n",
       "      <th>2010-01-04 00:00:00+00:00</th>\n",
       "      <td>6.447413</td>\n",
       "      <td>7.643214</td>\n",
       "      <td>7.660714</td>\n",
       "      <td>7.585000</td>\n",
       "      <td>7.622500</td>\n",
       "      <td>493729600</td>\n",
       "    </tr>\n",
       "    <tr>\n",
       "      <th>2010-01-05 00:00:00+00:00</th>\n",
       "      <td>6.458560</td>\n",
       "      <td>7.656429</td>\n",
       "      <td>7.699643</td>\n",
       "      <td>7.616071</td>\n",
       "      <td>7.664286</td>\n",
       "      <td>601904800</td>\n",
       "    </tr>\n",
       "    <tr>\n",
       "      <th>2010-01-06 00:00:00+00:00</th>\n",
       "      <td>6.355827</td>\n",
       "      <td>7.534643</td>\n",
       "      <td>7.686786</td>\n",
       "      <td>7.526786</td>\n",
       "      <td>7.656429</td>\n",
       "      <td>552160000</td>\n",
       "    </tr>\n",
       "  </tbody>\n",
       "</table>\n",
       "</div>"
      ],
      "text/plain": [
       "                           Adj_Close     Close      High       Low      Open  \\\n",
       "Date                                                                           \n",
       "2010-01-04 00:00:00+00:00   6.447413  7.643214  7.660714  7.585000  7.622500   \n",
       "2010-01-05 00:00:00+00:00   6.458560  7.656429  7.699643  7.616071  7.664286   \n",
       "2010-01-06 00:00:00+00:00   6.355827  7.534643  7.686786  7.526786  7.656429   \n",
       "\n",
       "                              Volume  \n",
       "Date                                  \n",
       "2010-01-04 00:00:00+00:00  493729600  \n",
       "2010-01-05 00:00:00+00:00  601904800  \n",
       "2010-01-06 00:00:00+00:00  552160000  "
      ]
     },
     "execution_count": 24,
     "metadata": {},
     "output_type": "execute_result"
    }
   ],
   "source": [
    "Apple_Data.head(3)"
   ]
  },
  {
   "cell_type": "code",
   "execution_count": 25,
   "id": "b06e6f55-89ff-469e-bfea-fa6c9c840e21",
   "metadata": {},
   "outputs": [],
   "source": [
    "#Resampling the Data and Agregating it to Weekly"
   ]
  },
  {
   "cell_type": "code",
   "execution_count": 27,
   "id": "4f0ff4dd-958f-4af4-9f94-bfe816e2e083",
   "metadata": {},
   "outputs": [],
   "source": [
    "data_resampled = Apple_Data.resample('W').mean() "
   ]
  },
  {
   "cell_type": "code",
   "execution_count": 28,
   "id": "2800fca4-d833-4fa3-84f4-47a18628c08a",
   "metadata": {},
   "outputs": [
    {
     "data": {
      "text/html": [
       "<div>\n",
       "<style scoped>\n",
       "    .dataframe tbody tr th:only-of-type {\n",
       "        vertical-align: middle;\n",
       "    }\n",
       "\n",
       "    .dataframe tbody tr th {\n",
       "        vertical-align: top;\n",
       "    }\n",
       "\n",
       "    .dataframe thead th {\n",
       "        text-align: right;\n",
       "    }\n",
       "</style>\n",
       "<table border=\"1\" class=\"dataframe\">\n",
       "  <thead>\n",
       "    <tr style=\"text-align: right;\">\n",
       "      <th></th>\n",
       "      <th>Adj_Close</th>\n",
       "      <th>Close</th>\n",
       "      <th>High</th>\n",
       "      <th>Low</th>\n",
       "      <th>Open</th>\n",
       "      <th>Volume</th>\n",
       "    </tr>\n",
       "    <tr>\n",
       "      <th>Date</th>\n",
       "      <th></th>\n",
       "      <th></th>\n",
       "      <th></th>\n",
       "      <th></th>\n",
       "      <th></th>\n",
       "      <th></th>\n",
       "    </tr>\n",
       "  </thead>\n",
       "  <tbody>\n",
       "    <tr>\n",
       "      <th>2010-01-10 00:00:00+00:00</th>\n",
       "      <td>6.398427</td>\n",
       "      <td>7.585143</td>\n",
       "      <td>7.638000</td>\n",
       "      <td>7.532071</td>\n",
       "      <td>7.603286</td>\n",
       "      <td>5.145073e+08</td>\n",
       "    </tr>\n",
       "    <tr>\n",
       "      <th>2010-01-17 00:00:00+00:00</th>\n",
       "      <td>6.289488</td>\n",
       "      <td>7.456000</td>\n",
       "      <td>7.541143</td>\n",
       "      <td>7.384714</td>\n",
       "      <td>7.506429</td>\n",
       "      <td>5.379086e+08</td>\n",
       "    </tr>\n",
       "    <tr>\n",
       "      <th>2010-01-24 00:00:00+00:00</th>\n",
       "      <td>6.270794</td>\n",
       "      <td>7.433839</td>\n",
       "      <td>7.603125</td>\n",
       "      <td>7.331339</td>\n",
       "      <td>7.518750</td>\n",
       "      <td>7.080206e+08</td>\n",
       "    </tr>\n",
       "    <tr>\n",
       "      <th>2010-01-31 00:00:00+00:00</th>\n",
       "      <td>6.074986</td>\n",
       "      <td>7.201714</td>\n",
       "      <td>7.404928</td>\n",
       "      <td>7.080357</td>\n",
       "      <td>7.295143</td>\n",
       "      <td>1.414967e+09</td>\n",
       "    </tr>\n",
       "    <tr>\n",
       "      <th>2010-02-07 00:00:00+00:00</th>\n",
       "      <td>5.888743</td>\n",
       "      <td>6.980929</td>\n",
       "      <td>7.049214</td>\n",
       "      <td>6.868000</td>\n",
       "      <td>6.948643</td>\n",
       "      <td>7.343011e+08</td>\n",
       "    </tr>\n",
       "    <tr>\n",
       "      <th>...</th>\n",
       "      <td>...</td>\n",
       "      <td>...</td>\n",
       "      <td>...</td>\n",
       "      <td>...</td>\n",
       "      <td>...</td>\n",
       "      <td>...</td>\n",
       "    </tr>\n",
       "    <tr>\n",
       "      <th>2024-10-13 00:00:00+00:00</th>\n",
       "      <td>226.468839</td>\n",
       "      <td>226.717999</td>\n",
       "      <td>228.066000</td>\n",
       "      <td>224.784000</td>\n",
       "      <td>226.222000</td>\n",
       "      <td>3.297898e+07</td>\n",
       "    </tr>\n",
       "    <tr>\n",
       "      <th>2024-10-20 00:00:00+00:00</th>\n",
       "      <td>232.560135</td>\n",
       "      <td>232.816000</td>\n",
       "      <td>234.273999</td>\n",
       "      <td>231.067999</td>\n",
       "      <td>232.703998</td>\n",
       "      <td>4.362820e+07</td>\n",
       "    </tr>\n",
       "    <tr>\n",
       "      <th>2024-10-27 00:00:00+00:00</th>\n",
       "      <td>232.759921</td>\n",
       "      <td>233.016000</td>\n",
       "      <td>234.450003</td>\n",
       "      <td>230.558002</td>\n",
       "      <td>232.428000</td>\n",
       "      <td>3.945998e+07</td>\n",
       "    </tr>\n",
       "    <tr>\n",
       "      <th>2024-11-03 00:00:00+00:00</th>\n",
       "      <td>228.946112</td>\n",
       "      <td>229.198001</td>\n",
       "      <td>231.542001</td>\n",
       "      <td>228.012003</td>\n",
       "      <td>229.868002</td>\n",
       "      <td>4.964440e+07</td>\n",
       "    </tr>\n",
       "    <tr>\n",
       "      <th>2024-11-10 00:00:00+00:00</th>\n",
       "      <td>221.766007</td>\n",
       "      <td>222.009995</td>\n",
       "      <td>222.789993</td>\n",
       "      <td>219.710007</td>\n",
       "      <td>220.990005</td>\n",
       "      <td>4.494450e+07</td>\n",
       "    </tr>\n",
       "  </tbody>\n",
       "</table>\n",
       "<p>775 rows × 6 columns</p>\n",
       "</div>"
      ],
      "text/plain": [
       "                            Adj_Close       Close        High         Low  \\\n",
       "Date                                                                        \n",
       "2010-01-10 00:00:00+00:00    6.398427    7.585143    7.638000    7.532071   \n",
       "2010-01-17 00:00:00+00:00    6.289488    7.456000    7.541143    7.384714   \n",
       "2010-01-24 00:00:00+00:00    6.270794    7.433839    7.603125    7.331339   \n",
       "2010-01-31 00:00:00+00:00    6.074986    7.201714    7.404928    7.080357   \n",
       "2010-02-07 00:00:00+00:00    5.888743    6.980929    7.049214    6.868000   \n",
       "...                               ...         ...         ...         ...   \n",
       "2024-10-13 00:00:00+00:00  226.468839  226.717999  228.066000  224.784000   \n",
       "2024-10-20 00:00:00+00:00  232.560135  232.816000  234.273999  231.067999   \n",
       "2024-10-27 00:00:00+00:00  232.759921  233.016000  234.450003  230.558002   \n",
       "2024-11-03 00:00:00+00:00  228.946112  229.198001  231.542001  228.012003   \n",
       "2024-11-10 00:00:00+00:00  221.766007  222.009995  222.789993  219.710007   \n",
       "\n",
       "                                 Open        Volume  \n",
       "Date                                                 \n",
       "2010-01-10 00:00:00+00:00    7.603286  5.145073e+08  \n",
       "2010-01-17 00:00:00+00:00    7.506429  5.379086e+08  \n",
       "2010-01-24 00:00:00+00:00    7.518750  7.080206e+08  \n",
       "2010-01-31 00:00:00+00:00    7.295143  1.414967e+09  \n",
       "2010-02-07 00:00:00+00:00    6.948643  7.343011e+08  \n",
       "...                               ...           ...  \n",
       "2024-10-13 00:00:00+00:00  226.222000  3.297898e+07  \n",
       "2024-10-20 00:00:00+00:00  232.703998  4.362820e+07  \n",
       "2024-10-27 00:00:00+00:00  232.428000  3.945998e+07  \n",
       "2024-11-03 00:00:00+00:00  229.868002  4.964440e+07  \n",
       "2024-11-10 00:00:00+00:00  220.990005  4.494450e+07  \n",
       "\n",
       "[775 rows x 6 columns]"
      ]
     },
     "execution_count": 28,
     "metadata": {},
     "output_type": "execute_result"
    }
   ],
   "source": [
    "data_resampled"
   ]
  },
  {
   "cell_type": "markdown",
   "id": "44b50c18-fb45-4b92-a5bc-194c808c7c03",
   "metadata": {},
   "source": [
    "## Stationarity Testing"
   ]
  },
  {
   "cell_type": "code",
   "execution_count": null,
   "id": "c6be4f89-f49c-4e22-85eb-ca97dbc48d80",
   "metadata": {},
   "outputs": [],
   "source": [
    "# Use the ADF test (Augmented Dickey-Fuller) from the statsmodels library."
   ]
  },
  {
   "cell_type": "code",
   "execution_count": 31,
   "id": "bfb4554b-8b2e-48aa-9850-bc4b5daa2fe0",
   "metadata": {},
   "outputs": [],
   "source": [
    "from statsmodels.tsa.stattools import adfuller"
   ]
  },
  {
   "cell_type": "code",
   "execution_count": 33,
   "id": "5e76a6aa-ac27-47e0-a289-66b2544f36aa",
   "metadata": {},
   "outputs": [
    {
     "name": "stdout",
     "output_type": "stream",
     "text": [
      "ADF Statistic: 1.7206328573183538\n",
      "p-value: 0.9981779018407856\n"
     ]
    }
   ],
   "source": [
    "column_to_test = data_resampled['Adj_Close']\n",
    "\n",
    "# Apply the ADF test on the selected column\n",
    "result = adfuller(column_to_test.dropna())  # dropna() to avoid NaN values\n",
    "\n",
    "print(f'ADF Statistic: {result[0]}')\n",
    "print(f'p-value: {result[1]}')"
   ]
  },
  {
   "cell_type": "code",
   "execution_count": null,
   "id": "ffc976d9-9297-4bb6-b955-c0504d4a064d",
   "metadata": {},
   "outputs": [],
   "source": []
  }
 ],
 "metadata": {
  "kernelspec": {
   "display_name": "Python 3 (ipykernel)",
   "language": "python",
   "name": "python3"
  },
  "language_info": {
   "codemirror_mode": {
    "name": "ipython",
    "version": 3
   },
   "file_extension": ".py",
   "mimetype": "text/x-python",
   "name": "python",
   "nbconvert_exporter": "python",
   "pygments_lexer": "ipython3",
   "version": "3.8.20"
  }
 },
 "nbformat": 4,
 "nbformat_minor": 5
}
