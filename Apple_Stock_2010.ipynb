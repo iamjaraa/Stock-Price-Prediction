{
 "cells": [
  {
   "cell_type": "code",
   "execution_count": 1,
   "id": "e935fcd5-22fb-443a-8e34-cddc41851f96",
   "metadata": {},
   "outputs": [],
   "source": [
    "# Import the necessary Libraries"
   ]
  },
  {
   "cell_type": "code",
   "execution_count": 2,
   "id": "16fcec93-db50-4093-bfea-c8cdf4ff2e63",
   "metadata": {},
   "outputs": [],
   "source": [
    "import yfinance as yf\n",
    "import pandas as pd\n",
    "import matplotlib.pyplot as plt\n",
    "from datetime import datetime, timedelta"
   ]
  },
  {
   "cell_type": "code",
   "execution_count": 3,
   "id": "df0928d4-764b-449a-b304-51ef9b75fa89",
   "metadata": {},
   "outputs": [
    {
     "name": "stderr",
     "output_type": "stream",
     "text": [
      "[*********************100%***********************]  1 of 1 completed"
     ]
    },
    {
     "name": "stdout",
     "output_type": "stream",
     "text": [
      "Data downloaded and saved as 'AAPL_historical_data.csv'\n"
     ]
    },
    {
     "name": "stderr",
     "output_type": "stream",
     "text": [
      "\n"
     ]
    }
   ],
   "source": [
    "ticker = \"AAPL\"\n",
    "start_date = \"2010-01-01\"\n",
    "end_date = \"2024-11-05\"\n",
    "\n",
    "# Download the historical data\n",
    "data = yf.download(ticker, start=start_date, end=end_date)\n",
    "\n",
    "# Save the data to a CSV file\n",
    "data.to_csv(\"AAPL_historical_data.csv\")\n",
    "\n",
    "print(\"Data downloaded and saved as 'AAPL_historical_data.csv'\")"
   ]
  },
  {
   "cell_type": "code",
   "execution_count": 3,
   "id": "4cd818f2-1b4f-47e7-b49f-dacf8c6f9365",
   "metadata": {},
   "outputs": [],
   "source": [
    "Apple_Data = pd.read_csv(\"AAPL_historical_data.csv\")"
   ]
  },
  {
   "cell_type": "code",
   "execution_count": 33,
   "id": "9853405c-0af4-41c6-8ace-952faf25e6f1",
   "metadata": {},
   "outputs": [
    {
     "data": {
      "text/plain": [
       "Adj Close    0\n",
       "Close        0\n",
       "High         0\n",
       "Low          0\n",
       "Open         0\n",
       "dtype: int64"
      ]
     },
     "execution_count": 33,
     "metadata": {},
     "output_type": "execute_result"
    }
   ],
   "source": [
    "Apple_Data.head(5)"
   ]
  },
  {
   "cell_type": "code",
   "execution_count": 5,
   "id": "b4ae690f-e533-4619-8571-42932bb89496",
   "metadata": {},
   "outputs": [],
   "source": [
    "#Check for NaN values"
   ]
  },
  {
   "cell_type": "code",
   "execution_count": 6,
   "id": "73f42080-726f-4b97-8eb5-23cc10520bb9",
   "metadata": {},
   "outputs": [
    {
     "data": {
      "text/plain": [
       "Date         0\n",
       "Adj Close    0\n",
       "Close        0\n",
       "High         0\n",
       "Low          0\n",
       "Open         0\n",
       "Volume       0\n",
       "dtype: int64"
      ]
     },
     "execution_count": 6,
     "metadata": {},
     "output_type": "execute_result"
    }
   ],
   "source": [
    "Apple_Data.isnull().sum()"
   ]
  },
  {
   "cell_type": "code",
   "execution_count": 7,
   "id": "f504b28b-9597-4261-bcd8-7fe5ff1ec287",
   "metadata": {},
   "outputs": [],
   "source": [
    "## Reset the index to access the 'Ticker' column\n",
    "data_reset = Apple_Data.reset_index()"
   ]
  },
  {
   "cell_type": "code",
   "execution_count": 8,
   "id": "5f7b40ca-adf8-4ddd-8de8-e6be757c30e1",
   "metadata": {},
   "outputs": [
    {
     "name": "stdout",
     "output_type": "stream",
     "text": [
      "RangeIndex(start=0, stop=3735, step=1)\n"
     ]
    }
   ],
   "source": [
    "print(Apple_Data.index)"
   ]
  },
  {
   "cell_type": "code",
   "execution_count": 9,
   "id": "07a51445-3967-454c-81f5-f73bff69e031",
   "metadata": {},
   "outputs": [
    {
     "data": {
      "text/html": [
       "<div>\n",
       "<style scoped>\n",
       "    .dataframe tbody tr th:only-of-type {\n",
       "        vertical-align: middle;\n",
       "    }\n",
       "\n",
       "    .dataframe tbody tr th {\n",
       "        vertical-align: top;\n",
       "    }\n",
       "\n",
       "    .dataframe thead th {\n",
       "        text-align: right;\n",
       "    }\n",
       "</style>\n",
       "<table border=\"1\" class=\"dataframe\">\n",
       "  <thead>\n",
       "    <tr style=\"text-align: right;\">\n",
       "      <th></th>\n",
       "      <th>Date</th>\n",
       "      <th>Adj Close</th>\n",
       "      <th>Close</th>\n",
       "      <th>High</th>\n",
       "      <th>Low</th>\n",
       "      <th>Open</th>\n",
       "      <th>Volume</th>\n",
       "    </tr>\n",
       "  </thead>\n",
       "  <tbody>\n",
       "    <tr>\n",
       "      <th>3730</th>\n",
       "      <td>2024-10-29 00:00:00+00:00</td>\n",
       "      <td>233.413193</td>\n",
       "      <td>233.669998</td>\n",
       "      <td>234.330002</td>\n",
       "      <td>232.320007</td>\n",
       "      <td>233.100006</td>\n",
       "      <td>35417200</td>\n",
       "    </tr>\n",
       "    <tr>\n",
       "      <th>3731</th>\n",
       "      <td>2024-10-30 00:00:00+00:00</td>\n",
       "      <td>229.847122</td>\n",
       "      <td>230.100006</td>\n",
       "      <td>233.470001</td>\n",
       "      <td>229.550003</td>\n",
       "      <td>232.610001</td>\n",
       "      <td>47070900</td>\n",
       "    </tr>\n",
       "    <tr>\n",
       "      <th>3732</th>\n",
       "      <td>2024-10-31 00:00:00+00:00</td>\n",
       "      <td>225.661728</td>\n",
       "      <td>225.910004</td>\n",
       "      <td>229.830002</td>\n",
       "      <td>225.369995</td>\n",
       "      <td>229.339996</td>\n",
       "      <td>64370100</td>\n",
       "    </tr>\n",
       "    <tr>\n",
       "      <th>3733</th>\n",
       "      <td>2024-11-01 00:00:00+00:00</td>\n",
       "      <td>222.665024</td>\n",
       "      <td>222.910004</td>\n",
       "      <td>225.350006</td>\n",
       "      <td>220.270004</td>\n",
       "      <td>220.970001</td>\n",
       "      <td>65276700</td>\n",
       "    </tr>\n",
       "    <tr>\n",
       "      <th>3734</th>\n",
       "      <td>2024-11-04 00:00:00+00:00</td>\n",
       "      <td>221.766007</td>\n",
       "      <td>222.009995</td>\n",
       "      <td>222.789993</td>\n",
       "      <td>219.710007</td>\n",
       "      <td>220.990005</td>\n",
       "      <td>44944500</td>\n",
       "    </tr>\n",
       "  </tbody>\n",
       "</table>\n",
       "</div>"
      ],
      "text/plain": [
       "                           Date   Adj Close       Close        High  \\\n",
       "3730  2024-10-29 00:00:00+00:00  233.413193  233.669998  234.330002   \n",
       "3731  2024-10-30 00:00:00+00:00  229.847122  230.100006  233.470001   \n",
       "3732  2024-10-31 00:00:00+00:00  225.661728  225.910004  229.830002   \n",
       "3733  2024-11-01 00:00:00+00:00  222.665024  222.910004  225.350006   \n",
       "3734  2024-11-04 00:00:00+00:00  221.766007  222.009995  222.789993   \n",
       "\n",
       "             Low        Open    Volume  \n",
       "3730  232.320007  233.100006  35417200  \n",
       "3731  229.550003  232.610001  47070900  \n",
       "3732  225.369995  229.339996  64370100  \n",
       "3733  220.270004  220.970001  65276700  \n",
       "3734  219.710007  220.990005  44944500  "
      ]
     },
     "execution_count": 9,
     "metadata": {},
     "output_type": "execute_result"
    }
   ],
   "source": [
    "Apple_Data.tail(5)"
   ]
  },
  {
   "cell_type": "markdown",
   "id": "ad115d71-0ebf-40fb-a307-30df2cf798fa",
   "metadata": {},
   "source": [
    "## Explore the Data and Visualization"
   ]
  },
  {
   "cell_type": "code",
   "execution_count": 10,
   "id": "bf112891-66ae-40fa-a9a9-b24b4a41f404",
   "metadata": {},
   "outputs": [],
   "source": [
    "# Check the Data types"
   ]
  },
  {
   "cell_type": "code",
   "execution_count": 11,
   "id": "8dd02cee-4d0e-426f-b58a-8cb070049bc4",
   "metadata": {},
   "outputs": [
    {
     "data": {
      "text/plain": [
       "Date          object\n",
       "Adj Close    float64\n",
       "Close        float64\n",
       "High         float64\n",
       "Low          float64\n",
       "Open         float64\n",
       "Volume         int64\n",
       "dtype: object"
      ]
     },
     "execution_count": 11,
     "metadata": {},
     "output_type": "execute_result"
    }
   ],
   "source": [
    "Apple_Data.dtypes"
   ]
  },
  {
   "cell_type": "code",
   "execution_count": 12,
   "id": "4251f56c-7630-415b-b401-26e186a65481",
   "metadata": {},
   "outputs": [],
   "source": [
    "#Covert Date t Date Time"
   ]
  },
  {
   "cell_type": "code",
   "execution_count": 13,
   "id": "5ebf92e2-c83c-47a4-abd9-3c1717885ea9",
   "metadata": {},
   "outputs": [
    {
     "name": "stdout",
     "output_type": "stream",
     "text": [
      "                          Date   Adj Close       Close        High  \\\n",
      "0    2010-01-04 00:00:00+00:00    6.447413    7.643214    7.660714   \n",
      "1    2010-01-05 00:00:00+00:00    6.458560    7.656429    7.699643   \n",
      "2    2010-01-06 00:00:00+00:00    6.355827    7.534643    7.686786   \n",
      "3    2010-01-07 00:00:00+00:00    6.344077    7.520714    7.571429   \n",
      "4    2010-01-08 00:00:00+00:00    6.386256    7.570714    7.571429   \n",
      "...                        ...         ...         ...         ...   \n",
      "3730 2024-10-29 00:00:00+00:00  233.413193  233.669998  234.330002   \n",
      "3731 2024-10-30 00:00:00+00:00  229.847122  230.100006  233.470001   \n",
      "3732 2024-10-31 00:00:00+00:00  225.661728  225.910004  229.830002   \n",
      "3733 2024-11-01 00:00:00+00:00  222.665024  222.910004  225.350006   \n",
      "3734 2024-11-04 00:00:00+00:00  221.766007  222.009995  222.789993   \n",
      "\n",
      "             Low        Open     Volume  \n",
      "0       7.585000    7.622500  493729600  \n",
      "1       7.616071    7.664286  601904800  \n",
      "2       7.526786    7.656429  552160000  \n",
      "3       7.466071    7.562500  477131200  \n",
      "4       7.466429    7.510714  447610800  \n",
      "...          ...         ...        ...  \n",
      "3730  232.320007  233.100006   35417200  \n",
      "3731  229.550003  232.610001   47070900  \n",
      "3732  225.369995  229.339996   64370100  \n",
      "3733  220.270004  220.970001   65276700  \n",
      "3734  219.710007  220.990005   44944500  \n",
      "\n",
      "[3735 rows x 7 columns]\n"
     ]
    }
   ],
   "source": [
    "Apple_Data['Date'] = pd.to_datetime(Apple_Data['Date'], errors='coerce')\n",
    "\n",
    "print(Apple_Data)"
   ]
  },
  {
   "cell_type": "code",
   "execution_count": 14,
   "id": "fc89c782-61a1-4be0-baaf-2c563a0ba4a5",
   "metadata": {},
   "outputs": [
    {
     "data": {
      "text/plain": [
       "Date         datetime64[ns, UTC]\n",
       "Adj Close                float64\n",
       "Close                    float64\n",
       "High                     float64\n",
       "Low                      float64\n",
       "Open                     float64\n",
       "Volume                     int64\n",
       "dtype: object"
      ]
     },
     "execution_count": 14,
     "metadata": {},
     "output_type": "execute_result"
    }
   ],
   "source": [
    "Apple_Data.dtypes"
   ]
  },
  {
   "cell_type": "code",
   "execution_count": 32,
   "id": "fe262987-29c0-4b60-8d7f-b086f053ed29",
   "metadata": {},
   "outputs": [
    {
     "data": {
      "text/plain": [
       "count    6.0\n",
       "mean     0.0\n",
       "std      0.0\n",
       "min      0.0\n",
       "25%      0.0\n",
       "50%      0.0\n",
       "75%      0.0\n",
       "max      0.0\n",
       "dtype: float64"
      ]
     },
     "execution_count": 32,
     "metadata": {},
     "output_type": "execute_result"
    }
   ],
   "source": [
    "Apple_Data.describe()"
   ]
  },
  {
   "cell_type": "code",
   "execution_count": 16,
   "id": "6d8c4a79-0973-4947-828a-78fd40608ff8",
   "metadata": {},
   "outputs": [
    {
     "data": {
      "text/plain": [
       "(3735, 7)"
      ]
     },
     "execution_count": 16,
     "metadata": {},
     "output_type": "execute_result"
    }
   ],
   "source": [
    "Apple_Data.shape"
   ]
  },
  {
   "cell_type": "code",
   "execution_count": 17,
   "id": "24f951ff-d1c5-4a1c-b5c8-aed1e0e4f539",
   "metadata": {},
   "outputs": [],
   "source": [
    "#Plot the closing price in a graph"
   ]
  },
  {
   "cell_type": "code",
   "execution_count": 18,
   "id": "ae344849-3b17-421c-9dd2-7b3e37ef84ac",
   "metadata": {},
   "outputs": [
    {
     "data": {
      "image/png": "[encoded data removed]",
      "text/plain": [
       "<Figure size 640x480 with 1 Axes>"
      ]
     },
     "metadata": {},
     "output_type": "display_data"
    }
   ],
   "source": [
    "plt.plot(Apple_Data['Close'])\n",
    "plt.title(\"Apple Stock Price Over Time\")\n",
    "plt.xlabel(\"Date\")\n",
    "plt.ylabel(\"Close Price\")\n",
    "plt.show()"
   ]
  },
  {
   "cell_type": "code",
   "execution_count": 19,
   "id": "fe6ee671-e06d-467b-ad88-dda2536d1534",
   "metadata": {},
   "outputs": [],
   "source": [
    "# Fix the Date problems"
   ]
  },
  {
   "cell_type": "code",
   "execution_count": 20,
   "id": "b3dc7fe6-0261-4919-8aed-1b5809e2b531",
   "metadata": {},
   "outputs": [],
   "source": [
    "Apple_Data.set_index('Date', inplace=True)"
   ]
  },
  {
   "cell_type": "code",
   "execution_count": 21,
   "id": "68b6b09f-ea36-4e6f-b1b6-7c8ade123ae2",
   "metadata": {},
   "outputs": [
    {
     "data": {
      "image/png": "[encoded data removed]",
      "text/plain": [
       "<Figure size 640x480 with 1 Axes>"
      ]
     },
     "metadata": {},
     "output_type": "display_data"
    }
   ],
   "source": [
    "# Plot with 'Date' as x-axis\n",
    "plt.plot(Apple_Data.index, Apple_Data['Close'])\n",
    "plt.title(\"Apple Stock Price Over Time\")\n",
    "plt.xlabel(\"Date\")\n",
    "plt.ylabel(\"Close Price\")\n",
    "plt.show()"
   ]
  },
  {
   "cell_type": "markdown",
   "id": "2d1be104-19ac-451d-97a8-7f40547c845b",
   "metadata": {},
   "source": [
    "## Data Preprocessing"
   ]
  },
  {
   "cell_type": "code",
   "execution_count": 22,
   "id": "b06e6f55-89ff-469e-bfea-fa6c9c840e21",
   "metadata": {},
   "outputs": [],
   "source": [
    "#Resampling the Data and Agregating it to Weekly"
   ]
  },
  {
   "cell_type": "code",
   "execution_count": 27,
   "id": "58dcf33d-ab58-4f00-bf1e-9a3ff37fe738",
   "metadata": {},
   "outputs": [],
   "source": [
    "# Drop the NaN Values"
   ]
  },
  {
   "cell_type": "code",
   "execution_count": null,
   "id": "4f0ff4dd-958f-4af4-9f94-bfe816e2e083",
   "metadata": {},
   "outputs": [],
   "source": []
  }
 ],
 "metadata": {
  "kernelspec": {
   "display_name": "Python 3 (ipykernel)",
   "language": "python",
   "name": "python3"
  },
  "language_info": {
   "codemirror_mode": {
    "name": "ipython",
    "version": 3
   },
   "file_extension": ".py",
   "mimetype": "text/x-python",
   "name": "python",
   "nbconvert_exporter": "python",
   "pygments_lexer": "ipython3",
   "version": "3.8.20"
  }
 },
 "nbformat": 4,
 "nbformat_minor": 5
}
